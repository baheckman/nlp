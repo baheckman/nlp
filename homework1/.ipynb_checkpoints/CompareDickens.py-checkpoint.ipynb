{
 "cells": [
  {
   "cell_type": "code",
   "execution_count": 3,
   "metadata": {
    "collapsed": false
   },
   "outputs": [
    {
     "ename": "ImportError",
     "evalue": "No module named 'matplotlib'",
     "output_type": "error",
     "traceback": [
      "\u001b[0;31m---------------------------------------------------------------------------\u001b[0m",
      "\u001b[0;31mImportError\u001b[0m                               Traceback (most recent call last)",
      "\u001b[0;32m<ipython-input-3-6c79382209a0>\u001b[0m in \u001b[0;36m<module>\u001b[0;34m()\u001b[0m\n\u001b[1;32m      3\u001b[0m \u001b[0;32mimport\u001b[0m \u001b[0mre\u001b[0m\u001b[0;34m\u001b[0m\u001b[0m\n\u001b[1;32m      4\u001b[0m \u001b[0;32mimport\u001b[0m \u001b[0mnumpy\u001b[0m \u001b[0;32mas\u001b[0m \u001b[0mnp\u001b[0m\u001b[0;34m\u001b[0m\u001b[0m\n\u001b[0;32m----> 5\u001b[0;31m \u001b[0;32mimport\u001b[0m \u001b[0mmatplotlib\u001b[0m\u001b[0;34m.\u001b[0m\u001b[0mpyplot\u001b[0m \u001b[0;32mas\u001b[0m \u001b[0mplt\u001b[0m\u001b[0;34m\u001b[0m\u001b[0m\n\u001b[0m\u001b[1;32m      6\u001b[0m \u001b[0;34m\u001b[0m\u001b[0m\n\u001b[1;32m      7\u001b[0m \u001b[0;31m# get a list of stopwords from nltk\u001b[0m\u001b[0;34m\u001b[0m\u001b[0;34m\u001b[0m\u001b[0m\n",
      "\u001b[0;31mImportError\u001b[0m: No module named 'matplotlib'"
     ]
    }
   ],
   "source": [
    "import nltk\n",
    "from nltk import FreqDist\n",
    "import re\n",
    "import numpy as np\n",
    "import matplotlib.pyplot as plt\n",
    "\n",
    "# get a list of stopwords from nltk\n",
    "stopwords = nltk.corpus.stopwords.words('english')\n",
    "\n",
    "# function that takes a word and returns true if it consists only\n",
    "#   of non-alphabetic characters  (assumes import re)\n",
    "def alpha_filter(w):\n",
    "    # pattern to match word of non-alphabetical characters\n",
    "    pattern = re.compile('^[^a-z]+$')\n",
    "    if (pattern.match(w)):\n",
    "        return True\n",
    "    else:\n",
    "        return False"
   ]
  },
  {
   "cell_type": "code",
   "execution_count": 108,
   "metadata": {
    "collapsed": false
   },
   "outputs": [],
   "source": [
    "# grab raw text and tokenize 'A Christmas Carol' and make everything lowercase\n",
    "f = open(\"a_christmas_carol.txt\")\n",
    "a_christmas_carol_raw = f.read()\n",
    "a_christmas_carol_tokens = nltk.word_tokenize(a_christmas_carol_raw)\n",
    "a_christmas_carol_words = [t.lower() for t in a_christmas_carol_tokens]\n",
    "a_christmas_carol_words = [w for w in a_christmas_carol_words if not w in stopwords]\n",
    "a_christmas_carol_words = [w for w in a_christmas_carol_words if not alpha_filter(w)]\n",
    "\n",
    "# find word frequencies and the most common word occurances\n",
    "a_christmas_carol_freq = FreqDist(a_christmas_carol_words)\n",
    "a_christmas_carol_freq\n",
    "a_christmas_carol_most_common = a_christmas_carol_freq.most_common(50)"
   ]
  },
  {
   "cell_type": "code",
   "execution_count": 109,
   "metadata": {
    "collapsed": false
   },
   "outputs": [],
   "source": [
    "# grab raw text and tokenize 'A Tale of Two Cities' and make everything lowercase\n",
    "f = open(\"a_tale_of_two_cities.txt\")\n",
    "a_tale_of_two_cities_raw = f.read()\n",
    "a_tale_of_two_cities_tokens = nltk.word_tokenize(a_tale_of_two_cities_raw)\n",
    "a_tale_of_two_cities_words = [t.lower() for t in a_tale_of_two_cities_tokens]\n",
    "a_tale_of_two_cities_words = [w for w in a_tale_of_two_cities_words if not w in stopwords]\n",
    "a_tale_of_two_cities_words = [w for w in a_tale_of_two_cities_words if not alpha_filter(w)]\n",
    "\n",
    "# find word frequencies and the most common word occurances\n",
    "a_tale_of_two_cities_freq = FreqDist(a_tale_of_two_cities_words)\n",
    "a_tale_of_two_cities_freq\n",
    "a_tale_of_two_cities_most_common = a_tale_of_two_cities_freq.most_common(50)"
   ]
  },
  {
   "cell_type": "code",
   "execution_count": null,
   "metadata": {
    "collapsed": false
   },
   "outputs": [],
   "source": [
    "# grab raw text and tokenize 'Bleak House' and make everything lowercase\n",
    "f = open(\"bleak_house.txt\")\n",
    "bleak_house_raw = f.read()\n",
    "bleak_house_tokens = nltk.word_tokenize(bleak_house_raw)\n",
    "bleak_house_words = [t.lower() for t in bleak_house_tokens]\n",
    "bleak_house_words = [w for w in bleak_house_words if not w in stopwords]\n",
    "bleak_house_words = [w for w in bleak_house_words if not alpha_filter(w)]\n",
    "\n",
    "# find word frequencies and the most common word occurances\n",
    "bleak_house_freq = FreqDist(bleak_house_words)\n",
    "bleak_house_freq\n",
    "bleak_house_most_common = bleak_house_freq.most_common(50)"
   ]
  },
  {
   "cell_type": "code",
   "execution_count": null,
   "metadata": {
    "collapsed": false
   },
   "outputs": [],
   "source": [
    "# grab raw text and tokenize 'David Copperfield' and make everything lowercase\n",
    "f = open(\"david_copperfield.txt\")\n",
    "david_copperfield_raw = f.read()\n",
    "david_copperfield_tokens = nltk.word_tokenize(david_copperfield_raw)\n",
    "david_copperfield_words = [t.lower() for t in david_copperfield_tokens]\n",
    "david_copperfield_words = [w for w in david_copperfield_words if not w in stopwords]\n",
    "david_copperfield_words = [w for w in david_copperfield_words if not alpha_filter(w)]\n",
    "\n",
    "# find word frequencies and the most common word occurances\n",
    "david_copperfield_freq = FreqDist(david_copperfield_words)\n",
    "david_copperfield_freq\n",
    "david_copperfield_most_common = david_copperfield_freq.most_common(50)"
   ]
  },
  {
   "cell_type": "code",
   "execution_count": null,
   "metadata": {
    "collapsed": false
   },
   "outputs": [],
   "source": [
    "# grab raw text and tokenize 'Great Expectations' and make everything lowercase\n",
    "f = open(\"great_expectations.txt\")\n",
    "great_expectations_raw = f.read()\n",
    "great_expectations_tokens = nltk.word_tokenize(great_expectations_raw)\n",
    "great_expectations_words = [t.lower() for t in great_expectations_tokens]\n",
    "great_expectations_words = [w for w in great_expectations_words if not w in stopwords]\n",
    "great_expectations_words = [w for w in great_expectations_words if not alpha_filter(w)]\n",
    "\n",
    "# find word frequencies and the most common word occurances\n",
    "great_expectations_freq = FreqDist(great_expectations_words)\n",
    "great_expectations_freq\n",
    "great_expectations_most_common = great_expectations_freq.most_common(50)"
   ]
  },
  {
   "cell_type": "code",
   "execution_count": null,
   "metadata": {
    "collapsed": false
   },
   "outputs": [],
   "source": [
    "# grab raw text and tokenize 'Hard Times' and make everything lowercase\n",
    "f = open(\"hard_times.txt\")\n",
    "hard_times_raw = f.read()\n",
    "hard_times_tokens = nltk.word_tokenize(hard_times_raw)\n",
    "hard_times_words = [t.lower() for t in hard_times_tokens]\n",
    "hard_times_words = [w for w in hard_times_words if not w in stopwords]\n",
    "hard_times_words = [w for w in hard_times_words if not alpha_filter(w)]\n",
    "\n",
    "# find word frequencies and the most common word occurances\n",
    "hard_times_freq = FreqDist(hard_times_words)\n",
    "hard_times_freq\n",
    "hard_times_most_common = hard_times_freq.most_common(50)"
   ]
  },
  {
   "cell_type": "code",
   "execution_count": null,
   "metadata": {
    "collapsed": false
   },
   "outputs": [],
   "source": [
    "# grab raw text and tokenize 'Oliver Twist' and make everything lowercase\n",
    "f = open(\"oliver_twist.txt\")\n",
    "oliver_twist_raw = f.read()\n",
    "oliver_twist_tokens = nltk.word_tokenize(oliver_twist_raw)\n",
    "oliver_twist_words = [t.lower() for t in oliver_twist_tokens]\n",
    "oliver_twist_words = [w for w in oliver_twist_words if not w in stopwords]\n",
    "oliver_twist_words = [w for w in oliver_twist_words if not alpha_filter(w)]\n",
    "\n",
    "# find word frequencies and the most common word occurances\n",
    "oliver_twist_freq = FreqDist(oliver_twist_words)\n",
    "oliver_twist_freq\n",
    "oliver_twist_most_common = oliver_twist_freq.most_common(50)"
   ]
  },
  {
   "cell_type": "code",
   "execution_count": null,
   "metadata": {
    "collapsed": true
   },
   "outputs": [],
   "source": []
  }
 ],
 "metadata": {
  "kernelspec": {
   "display_name": "Python 3",
   "language": "python",
   "name": "python3"
  },
  "language_info": {
   "codemirror_mode": {
    "name": "ipython",
    "version": 3
   },
   "file_extension": ".py",
   "mimetype": "text/x-python",
   "name": "python",
   "nbconvert_exporter": "python",
   "pygments_lexer": "ipython3",
   "version": "3.5.2"
  }
 },
 "nbformat": 4,
 "nbformat_minor": 0
}
